{
 "cells": [
  {
   "cell_type": "code",
   "execution_count": 1,
   "metadata": {},
   "outputs": [
    {
     "name": "stdout",
     "output_type": "stream",
     "text": [
      "Sat Dec  8 12:38:01 2018\n"
     ]
    }
   ],
   "source": [
    "import time\n",
    "print(time.ctime())"
   ]
  },
  {
   "cell_type": "markdown",
   "metadata": {},
   "source": [
    "Es hat sich gezeigt, dass das Thema \"Simulation dynamischer Systeme\" durch das bisherige Material in Kurs2b nicht ausreichend abgedeckt wird, was in den folgenden Kursen teilweise Verständnisschwierigkeiten verursacht. Dieses Notebook versucht die wesentlichen Informationen ausführlicher zusammenzufassen und geht auf folgende Punkte ein:\n",
    "\n",
    "- Was ist eine dynamisches System?\n",
    "- Wie kann man ein dynamisches System durch eine Differentialgleichung beschreiben?\n",
    "- Was ist eine Zustandsraumdarstellung? \n",
    "- Wie kann man Differentialgleichungen numerisch lösen?\n",
    "- Wie kann man mit Python ein dynamisches System simulieren?\n",
    "\n",
    "Das Dokument versucht einen angemessenen Kompromiss zwischen Allgemeingültigkeit und Verständlichkeit herzustellen, im Zweifelsfall zugunsten der Verständlichkeit. "
   ]
  },
  {
   "cell_type": "markdown",
   "metadata": {},
   "source": [
    "### Was ist ein dynamisches System?\n",
    "\n",
    "Ein System, dessen \"Zustand\" sich im Laufe der Zeit ändern kann.\n",
    "Beispiele:\n",
    "\n",
    "- Badewanne mit Zulauf und Ablauf (Zustandsgröße: Füllstand)\n",
    "- Tasse mit Tee (Zustandsgrößen: Temperatur des Inhalts, Temperatur der Tasse)\n",
    "- Pendel (Zustandsgrößen: Auslenkungswinkel und Winkelgeschwindigkeit)"
   ]
  },
  {
   "cell_type": "markdown",
   "metadata": {},
   "source": [
    "### Wie kann man ein dynamisches System durch eine Differentialgleichung beschreiben?\n",
    "\n",
    "Wenn sich eine Größe über die Zeit verändern kann ist es sinnvoll, sie mathematisch als Funktion der Zeit zu modellieren.\n",
    "Im Badewannen-Beispiel: $h(t)$.\n",
    "\n",
    "Die Geschwindigkeit bzw. die Rate der zeitlichen Veränderung einer Größe wird über die erste Ableitung beschrieben. Im Beispiel: $\\dot h(t)$. Auch das ist selbst wieder eine Zeitfunktion.\n",
    "Im Prozess der *Modellbildung* werden z.B. durch Anwendung von Bilanzen und physikalischer Gesetzmäßigkeiten Gleichungen hergeleitet, welche die Ableitungen der Systemgößen mit den Systemgrößen selber in Zusammenhang stellen. Im Badewannen-Beispiel gilt\n",
    "$$\\dot h(t) = \\frac{1}{A}(q_\\mathrm{zu}(t) - q_\\mathrm{ab}(t)), \\tag{1}$$\n",
    "d. h. die Veränderungsrate der Wasserspiegelhöhe ist proportional zur Differenz von Zulauf und Ablauf. Der Einfachheit halber wird eine über die Höhe konstante Querschnittsfläche $A$ angenommen.\n",
    "\n",
    "\n",
    "Die Bilanzgleichung (1) kann man zwar als Differentialgleichung (DGL) auffassen, weil eine Ableitung ($\\dot h$) auftritt, aber eine \"typische\" DGL erhält man erst, wenn man für $q_\\mathrm{ab}(t)$ noch die pyhsikalische Beziehung\n",
    "$$q_\\mathrm{ab}(t) = c \\sqrt{h(t)}$$\n",
    "(mit $c$ abhängig vom Querschnitt der Abflussöffnung und der Erdbeschleunigung $g$) einsetzt. Wenn man dann den Zufluss noch als konstant annimmt, d.h. $q_\\mathrm{zu}(t)\\equiv q_0$ setzt, erhält man\n",
    "$$\\dot h(t) = \\frac{1}{A}\\Big(q_0 -  c \\sqrt{h(t)}\\Big). \\tag{2}$$\n",
    "Diese DGL besagt, dass die Änderungsgeschwindigkeit des Füllstandes vom Füllstand selbst abhängt. So wie die Lösung einer (skalaren) algebraischen Gleichung eine Zahl ist, ist die *Lösung einer DGL* eine Funktion, in unserem Fall $h(t)$, die Höhe in Abhängigkeit von der Zeit.\n",
    "\n",
    "---\n",
    "\n",
    "Ein anderes Beispiel ist ein (mathematisches) Pendel mit der Auslenkung $\\varphi$.\n",
    "Aus einer Drehmomentenbilanz um die Achse erhält man (Modellbildung)\n",
    "$$ml^2 \\ddot \\varphi = - m g l\\sin \\varphi. \\tag{3}$$\n",
    "Dabei handelt es sich um eine skalare DGL 2. Ordnung (weil die höchste auftretende Ableiung 2. Ordnung ist).\n",
    "\n",
    "Bei der Betrachtung von DGLn kann man oft [mathematisch](https://de.wikipedia.org/wiki/Satz_von_Picard-Lindel%C3%B6f)  die Existenz und Eindeutigkeit der Lösung zeigen - die analytische *Berechnung* der Lösung ist aber nur in Spezialfällen möglich, z.B. bei linearen DGLn. Deswegen wird muss man sich meist mit einer numerischen Näherungslösung zufrieden geben. Wenn die DGL ein dynamisches System beschreibt, spricht man dann auch von einer *Simulation des Systems*.\n"
   ]
  },
  {
   "cell_type": "markdown",
   "metadata": {},
   "source": [
    "\n",
    "### Was ist eine Zustandsraumdarstellung?\n",
    "\n",
    "Um nicht für jede DGL ein eigenes numerisches Lösungsverfahren herleiten zu müssen, ist es sinnvoll, von einer Darstellung auszugehen, die möglichst viele relevante Fälle abdeckt. Die Zustandsraumdarstellung\n",
    "$$\\dot {\\mathbf{x}}(t) = \\mathbf{f}(\\mathbf{x}(t))\\qquad\n",
    "\\text{mit dem Zustandsvektor} ~ \\mathbf{x}(t) =\n",
    "\\left(\\begin{matrix}\n",
    "x_1(t) \\\\\n",
    "\\vdots \\\\\n",
    "x_n(t)\n",
    "\\end{matrix} \\right)\n",
    "\\in \\mathbb{R}^n \\tag{4} $$ \n",
    "ist deswegen sehr nützlich und verbreitet.\n",
    "\n",
    "Es handelt sich um ein *System von $n$ verkoppelten DGLn erster Ordnung.*\n",
    "Offensichtlich ist Gleichung (2) bereits in Zustandsraumdarstellung. Es gilt $n=1$ und $\\mathbf{x} = h$.\n",
    "\n",
    "Die skalare DGL zweiter Ordnung (3) kann durch mit Hilfe einer sogenannten definitorischen Gleichung in ein System von zwei DGLn erster Ordnung überführt werden:\n",
    "\\begin{align}\n",
    "x_1:= \\varphi \\\\\n",
    "x_2:= \\dot \\varphi\n",
    "\\end{align}\n",
    "Daraus ergibt sich durch Auflösen von (3) nach $\\ddot \\varphi = \\dot x_2$ die Zustandsraumdarstellung des Pendels:\n",
    "\\begin{align}\n",
    "\\dot{\\mathbf{x}}(t) =\n",
    "\\left(\\begin{matrix}\n",
    " \\dot x_1(t) \\\\\n",
    "\\dot x_2(t)\n",
    "\\end{matrix} \\right) = \n",
    "\\left(\\begin{matrix}\n",
    "x_2(t) \\\\\n",
    "-\\frac{g}{l} \\sin x_1\n",
    "\\end{matrix} \\right).\n",
    "\\tag{5}\n",
    "\\end{align}\n"
   ]
  },
  {
   "cell_type": "markdown",
   "metadata": {},
   "source": [
    "### Wie kann man  ein  DGL-System numerisch lösen?\n",
    "\n",
    "Bei der numerischen Lösung eines Zustandsraummodells (5) geht man typischerweise davon aus, dass der Anfangszustand $\\mathbf{x}(0)=:\\mathbf{x}_0$ bekannt und der Verlauf von $\\mathbf{x}(\\cdot)$ auf dem Zeitintervall $[0, T]$ gesucht ist. Deswegen spricht man bezüglich der Berechnung der Lösung auch von einem  *Anfangswertproblem* (initial value problem, IVP).\n",
    "Weil man aus der Zeitableitung von $\\mathbf{x}(t)$ die Größen $\\mathbf{x}(t)$ berechnet, spricht man auch von *numerischer Integration* einer DGL.\n",
    "Das einfachste numerische Integrations- bzw. Lösungsverfahren ist das *explizite Euler-Verfahren*. Dabei wird die Änderungsrate des Zustandes $\\mathbf{f}(\\mathbf{x})$ während des kurzen Zeitabschnittes $\\Delta t$ als konstant angenommen.\n",
    "Man erhält im ersten Schritt\n",
    "$$\\mathbf{x}(\\Delta t) \\approx \\mathbf{x}_0 +  \\Delta t \\cdot \\mathbf{f}(\\mathbf{x}_0),$$\n",
    "d.h. die Änderung des Zustandes (d.h. $\\mathbf{x}(\\Delta t) - \\mathbf{x}_0$ ) ist gleich $\\Delta t$ mal (konstanter) Änderungsrate. Dieses Verfahren kann man iterativ fortsetzen:\n",
    "$$\\mathbf{x}\\big(\\Delta t \\cdot (k+1)\\big) \\approx \\mathbf{x}(\\Delta t \\cdot k) +  \\Delta t \\cdot \\mathbf{f}\\big(\\mathbf{x}(\\Delta t \\cdot k)\\big)$$\n",
    "bzw. in Kurzschreibweise\n",
    "$$\\mathbf{x}_{k+1} = \\mathbf{x}_{k} +  \\Delta t \\cdot \\mathbf{f}(\\mathbf{x}_k).$$\n",
    "Dadurch erhält man zwar nicht den kompletten Lösungsverlauf $t \\mapsto \\mathbf{x}(t)$, sondern nur punktweise die approximierten Funktionswerte des Zustandsvektors $\\mathbf{x_1} := \\mathbf{x}(\\Delta t), \\mathbf{x_2} := \\mathbf{x}(2 \\Delta t), \\ldots, \\mathbf{x_N} := \\mathbf{x}(N \\Delta t)$ mit $N \\Delta t =T$, aber man kann zeigen, dass für hinreichend kleine Werte von $\\Delta t$ diese Näherungslösung gegen die exakte Lösung - von der man weiß, dass es sie gibt, die man aber i.A. nicht als Formel aufschreiben kann - konvergiert.\n",
    "\n",
    "Dieses Verfahren ist zwar einfach zu erklären, hat aber nur für kleine Schrittweiten $\\Delta t$ eine akzeptable Appoximationsgenauigkeit. In der Praxis werden oft kompliziertere Verfahren wie z.B. *Runge-Kutta*-Verfahren mit einer Schrittweitensteuerung verwendet.\n",
    "Aus Anwendungs-Sicht spielt das aber keine große Rolle. Für die meisten Anwendungsfälle kann man auf bereits vorgefertigte numerische Integrationsverfahren zurückgreifen.\n",
    "\n",
    "\n",
    "### Wie kann man mit Python ein dynamisches System simulieren?\n",
    "\n",
    "Im Pythonkurs verwenden wir den DGL-Löser (engl.: ODE solver; \"ode\" steht für ordinary differential equations) `odeint` aus dem Paket `scipy.integrate`."
   ]
  },
  {
   "cell_type": "code",
   "execution_count": 2,
   "metadata": {},
   "outputs": [
    {
     "name": "stdout",
     "output_type": "stream",
     "text": [
      "\n",
      "    Integrate a system of ordinary differential equations.\n",
      "    \n",
      "    .. note:: For new code, use `scipy.integrate.solve_ivp` to solve a\n",
      "              differential equation.\n",
      "\n",
      "    Solve a system of ordinary differential equations using lsoda from the\n",
      "    FORTRAN library odepack.\n",
      "\n",
      "    Solves the initial value problem for stiff or non-stiff systems\n",
      "    of first order ode-s::\n",
      "\n",
      "        dy/dt = func(y, t, ...)  [or func(t, y, ...)]\n",
      "\n",
      "    where y can be a vector.\n",
      "\n",
      "\n"
     ]
    }
   ],
   "source": [
    "from scipy.integrate import odeint\n",
    "print(odeint.__doc__[:460]) # Anfang des doc-Strings ausgeben"
   ]
  },
  {
   "cell_type": "markdown",
   "metadata": {
    "collapsed": true
   },
   "source": [
    "Die Funktion `odeint(rhs, xx0, tt)` erwartet drei Parameter:\n",
    "1. Eine Funktion der rechten Seite der DGL also $\\mathbf{f}(\\mathbf{x}, t)$,\n",
    "2. den Anfangszustand $x_0$, \n",
    "3. einen array mit Zeitpunkten bei denen die Lösung ausgewertet werden soll.\n",
    "\n",
    "**Hinweise**\n",
    "\n",
    "1. Die Funktion $\\mathbf{f}$ wird im Python-Code of `rhs(x, t)` genannt, weil sie die \"right hand side\" der DGL beschreibt. In Gleichung (4) hängt die Funktion $\\mathbf{f}$ nur von $\\mathbf{x}$ und nicht von $t$ ab. Die Funktion `odeint` erwartet erwartet aber als erstes Argument immer eine Python-Funktion, die zwei Parameter akzeptiert. Dadurch können auch zeitvariante DGL simuliert werden (modifiziertes Badewannen-Beispiel: Zulauf ist eine explizite Funktion der Zeit). Soll eine DGL-simuliert werden, die wie das Pendelbeispiel nicht explizit von der Zeit abhängt, kann das 2. Argument innerhalb von `rhs` ignoriert werden.\n",
    "2. Wie die Argumente heißen ist natürlich egal. In diesem Text wird der Zustandsvektor mit $\\mathbf{x}$ bzw. mit `xx` bezeichnet im Docstring von  `odeint` heißt er `y`.\n",
    "3. Der Array `tt` legt die Länge des Rückgabe-Arrays `res` von `odeint` fest: Für jedes Element $t_i$ in `tt` hat der Array `res` eine Zeile, welche den Werten ($x_1(t_i), \\ldots, x_n(t_i)$) entspricht."
   ]
  },
  {
   "cell_type": "markdown",
   "metadata": {},
   "source": [
    "#### Beispiel\n",
    "\n",
    "Im Folgenden wird das Pendel aus Gleichung (5) für 25 Sekunden für verschiedene Anfangszustände ($\\varphi(0)= 20^\\circ$ sowie $\\varphi(0)= 170^\\circ$ ohne und mit zusätzlicher Winkelgeschwindigkeit) simuliert."
   ]
  },
  {
   "cell_type": "code",
   "execution_count": 3,
   "metadata": {},
   "outputs": [],
   "source": [
    "from numpy import sqrt, sin, array, linspace, pi\n",
    "import matplotlib.pyplot as plt\n",
    "\n",
    "g = 9.81\n",
    "l = 1\n",
    "\n",
    "# Definition of the right hand side\n",
    "\n",
    "def rhs_pendulum(xx, t):\n",
    "    \"\"\"\n",
    "    Right hand side of pendulum ode.\n",
    "    \n",
    "    :param xx:  state vector (1d-array or list or tuple)\n",
    "    :param t:   time instant (ignored here)\n",
    "    \"\"\"\n",
    "    x1, x2 = xx\n",
    "    \n",
    "    x1dot = x2\n",
    "    x2dot = -sqrt(g/l)*sin(x1)\n",
    "    \n",
    "    return array([x1dot, x2dot])"
   ]
  },
  {
   "cell_type": "code",
   "execution_count": 4,
   "metadata": {},
   "outputs": [],
   "source": [
    "xx0_20 = [20*pi/180, 0]\n",
    "xx0_170a = [170*pi/180, 0]\n",
    "xx0_170b = [170*pi/180, 0.31]\n",
    "tt = linspace(0, 25, 1000)"
   ]
  },
  {
   "cell_type": "code",
   "execution_count": 5,
   "metadata": {},
   "outputs": [],
   "source": [
    "res_20 = odeint(rhs_pendulum, xx0_20, tt)\n",
    "res_170a = odeint(rhs_pendulum, xx0_170a, tt)\n",
    "res_170b = odeint(rhs_pendulum, xx0_170b, tt)"
   ]
  },
  {
   "cell_type": "code",
   "execution_count": 6,
   "metadata": {},
   "outputs": [
    {
     "data": {
      "text/plain": [
       "<matplotlib.legend.Legend at 0x7f27d8880828>"
      ]
     },
     "execution_count": 6,
     "metadata": {},
     "output_type": "execute_result"
    },
    {
     "data": {
      "image/png": "[encoded data removed]",
      "text/plain": [
       "<matplotlib.figure.Figure at 0x7f27da8947b8>"
      ]
     },
     "metadata": {},
     "output_type": "display_data"
    }
   ],
   "source": [
    "plt.figure(figsize=(15, 10))\n",
    "plt.plot(tt, res_20[:, 0], label=r\"$\\varphi(0)= 20^\\circ$\")\n",
    "plt.plot(tt, res_170a[:, 0], label=r\"$\\varphi(0)= 170^\\circ$\")\n",
    "plt.plot(tt, res_170b[:, 0], label=r\"$\\varphi(0)= 170^\\circ$, $\\dot \\varphi > 0$\")\n",
    "\n",
    "plt.legend()"
   ]
  },
  {
   "cell_type": "markdown",
   "metadata": {},
   "source": [
    "Auswertung der drei Fälle:\n",
    "\n",
    "Bei $20°$ Aunfangsauslenkung schwingt das Pendel annähernd harmonisch (d.h. $\\varphi(t) \\approx \\varphi(0) \\cdot \\cos\\Big(\\sqrt{\\frac{g}{l}} \\cdot t\\Big)$). Diese Lösung könnte man auch analytisch über eine Linearisierung von (3) bzw. (5) berechnen, denn für kleine Auslenkungen gilt $\\sin \\varphi \\approx \\varphi$.\n",
    "\n",
    "Bei $170°$ Anfangsauslenkung schwingt das Pendel deutlich nicht-harmonisch (orangene Kurve sieht anders aus als sin- bzw. cos-Funktion). Außerdem hat sich die Periodendauer signifikant erhöht. (Bei $180°$ Anfangsauslenkung wäre sie unendlich lang, weil laut mathematischem Modell das Pendel in der oberen Ruhelage verharren würde.)\n",
    "\n",
    "Kommt zu den $170°$ Anfangsauslenkung noch eine passende Anfangs-Winkelgeschwindigkeit, dann schwingt das Pendel nicht mehr sondern vollzieht Überschläge (grüne Kurve).\n",
    "\n",
    "Schlussbemerkung: Auch für die nichtlineare Pendel-DGL (3) exisitiert eine exakte analytische Lösung, siehe z.B. [Wikipedia](https://de.wikipedia.org/wiki/Mathematisches_Pendel#Exakte_L%C3%B6sung). Trotzdem bleibt die Aussage, dass man typischerweise und insbesondere für praktisch relevante Systeme keine analytische Lösung finden kann, gültig. Deswegen ist die numerische Integration von DGLn-Systemen eine zentrale Technik in den Natur- und Ingenieurwissenschaften.\n",
    "\n"
   ]
  },
  {
   "cell_type": "code",
   "execution_count": 7,
   "metadata": {},
   "outputs": [],
   "source": [
    "import ipydex\n",
    "ipydex.save_current_nb_as_html(0)"
   ]
  }
 ],
 "metadata": {
  "kernelspec": {
   "display_name": "Python 3",
   "language": "python",
   "name": "python3"
  },
  "language_info": {
   "codemirror_mode": {
    "name": "ipython",
    "version": 3
   },
   "file_extension": ".py",
   "mimetype": "text/x-python",
   "name": "python",
   "nbconvert_exporter": "python",
   "pygments_lexer": "ipython3",
   "version": "3.6.9"
  }
 },
 "nbformat": 4,
 "nbformat_minor": 2
}
