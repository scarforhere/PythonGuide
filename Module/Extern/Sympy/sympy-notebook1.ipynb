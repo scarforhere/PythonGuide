{
 "cells": [
  {
   "cell_type": "code",
   "execution_count": 1,
   "metadata": {},
   "outputs": [],
   "source": [
    "# code of sympy1.py without print-statements\n",
    "import sympy as sp\n",
    "x = sp.Symbol(\"x\")\n",
    "a, b, c, z = sp.symbols(\"a b c z\") # create several symbols at once\n",
    "\n",
    "some_formula = a*b*x*b + b**2*a*x - c*b*(2*a/c*x*b-1/(b*2))\n",
    "\n",
    "# some calculus\n",
    "y = sp.sin(x)*sp.exp(3*x)*sp.sqrt(a)\n",
    "\n",
    "# derive\n",
    "yd = y.diff(x) \n",
    "\n",
    "# substitution\n",
    "y3 = y.subs([(x, z-1), (a, 25)])"
   ]
  },
  {
   "cell_type": "markdown",
   "metadata": {},
   "source": [
    "→ no output is generated"
   ]
  },
  {
   "cell_type": "code",
   "execution_count": 2,
   "metadata": {},
   "outputs": [],
   "source": [
    "# normaly this line would be in one of the first cells\n",
    "# located here for didactical reasons\n",
    "\n",
    "%load_ext ipydex.displaytools"
   ]
  },
  {
   "cell_type": "markdown",
   "metadata": {},
   "source": [
    "This extension introduces the special comment `##:`.\n",
    "\n",
    "It serves to display the results of assignments, thereby increasing the comprehensibility of the notebook.\n",
    "\n",
    "Note the difference:"
   ]
  },
  {
   "cell_type": "code",
   "execution_count": 3,
   "metadata": {
    "scrolled": true
   },
   "outputs": [
    {
     "data": {
      "text/plain": "some_formula := 2*a*b**2*x - b*c*(2*a*b*x/c - 1/(2*b))",
      "text/latex": "some_formula := $\\displaystyle 2 a b^{2} x - b c \\left(\\frac{2 a b x}{c} - \\frac{1}{2 b}\\right)$"
     },
     "metadata": {},
     "output_type": "display_data"
    },
    {
     "data": {
      "text/plain": "---"
     },
     "metadata": {},
     "output_type": "display_data"
    },
    {
     "data": {
      "text/plain": "y := sqrt(a)*exp(3*x)*sin(x)",
      "text/latex": "y := $\\displaystyle \\sqrt{a} e^{3 x} \\sin{\\left(x \\right)}$"
     },
     "metadata": {},
     "output_type": "display_data"
    },
    {
     "data": {
      "text/plain": "---"
     },
     "metadata": {},
     "output_type": "display_data"
    },
    {
     "data": {
      "text/plain": "yd := 3*sqrt(a)*exp(3*x)*sin(x) + sqrt(a)*exp(3*x)*cos(x)",
      "text/latex": "yd := $\\displaystyle 3 \\sqrt{a} e^{3 x} \\sin{\\left(x \\right)} + \\sqrt{a} e^{3 x} \\cos{\\left(x \\right)}$"
     },
     "metadata": {},
     "output_type": "display_data"
    },
    {
     "data": {
      "text/plain": "---"
     },
     "metadata": {},
     "output_type": "display_data"
    },
    {
     "data": {
      "text/plain": "y3 := 5*exp(3*z - 3)*sin(z - 1)",
      "text/latex": "y3 := $\\displaystyle 5 e^{3 z - 3} \\sin{\\left(z - 1 \\right)}$"
     },
     "metadata": {},
     "output_type": "display_data"
    },
    {
     "data": {
      "text/plain": "---"
     },
     "metadata": {},
     "output_type": "display_data"
    }
   ],
   "source": [
    "# same code with special-comments (`##:`)\n",
    "\n",
    "x = sp.Symbol(\"x\")\n",
    "a, b, c, z = sp.symbols(\"a b c z\") # create several symbols at once\n",
    "\n",
    "some_formula = a*b*x*b + b**2*a*x - c*b*(2*a/c*x*b-1/(b*2)) ##:\n",
    "\n",
    "# some calculus\n",
    "y = sp.sin(x)*sp.exp(3*x)*sp.sqrt(a) ##:\n",
    "\n",
    "# derive\n",
    "yd = y.diff(x) ##:\n",
    "\n",
    "# substitution\n",
    "y3 = y.subs([(x, z-1), (a, 25)]) ##:"
   ]
  },
  {
   "cell_type": "markdown",
   "metadata": {},
   "source": [
    "---\n",
    "Another trick: let sympy expressions be nicely rendered by $\\LaTeX$ ⇒ readability ↑."
   ]
  },
  {
   "cell_type": "code",
   "execution_count": 4,
   "metadata": {},
   "outputs": [
    {
     "name": "stdout",
     "output_type": "stream",
     "text": [
      "The ipydex.displaytools extension is already loaded. To reload it, use:\n",
      "  %reload_ext ipydex.displaytools\n"
     ]
    }
   ],
   "source": [
    "from sympy.interactive import printing\n",
    "printing.init_printing()\n",
    "\n",
    "%load_ext ipydex.displaytools"
   ]
  },
  {
   "cell_type": "code",
   "execution_count": 5,
   "metadata": {},
   "outputs": [
    {
     "name": "stderr",
     "output_type": "stream",
     "text": [
      "d:\\python39\\lib\\site-packages\\IPython\\lib\\latextools.py:126: MatplotlibDeprecationWarning: \n",
      "The to_png function was deprecated in Matplotlib 3.4 and will be removed two minor releases later. Use mathtext.math_to_image instead.\n",
      "  mt.to_png(f, s, fontsize=12, dpi=dpi, color=color)\n",
      "d:\\python39\\lib\\site-packages\\IPython\\lib\\latextools.py:126: MatplotlibDeprecationWarning: \n",
      "The to_rgba function was deprecated in Matplotlib 3.4 and will be removed two minor releases later. Use mathtext.math_to_image instead.\n",
      "  mt.to_png(f, s, fontsize=12, dpi=dpi, color=color)\n",
      "d:\\python39\\lib\\site-packages\\IPython\\lib\\latextools.py:126: MatplotlibDeprecationWarning: \n",
      "The to_mask function was deprecated in Matplotlib 3.4 and will be removed two minor releases later. Use mathtext.math_to_image instead.\n",
      "  mt.to_png(f, s, fontsize=12, dpi=dpi, color=color)\n",
      "d:\\python39\\lib\\site-packages\\IPython\\lib\\latextools.py:126: MatplotlibDeprecationWarning: \n",
      "The MathtextBackendBitmap class was deprecated in Matplotlib 3.4 and will be removed two minor releases later. Use mathtext.math_to_image instead.\n",
      "  mt.to_png(f, s, fontsize=12, dpi=dpi, color=color)\n"
     ]
    },
    {
     "data": {
      "text/plain": "some_formula :=      2         ⎛2⋅a⋅b⋅x    1 ⎞\n2⋅a⋅b ⋅x - b⋅c⋅⎜─────── - ───⎟\n               ⎝   c      2⋅b⎠",
      "image/png": "[encoded data removed]",
      "text/latex": "some_formula := $\\displaystyle 2 a b^{2} x - b c \\left(\\frac{2 a b x}{c} - \\frac{1}{2 b}\\right)$"
     },
     "metadata": {},
     "output_type": "display_data"
    },
    {
     "data": {
      "text/plain": "---"
     },
     "metadata": {},
     "output_type": "display_data"
    },
    {
     "data": {
      "text/plain": "y :=     3⋅x       \n√a⋅ℯ   ⋅sin(x)",
      "image/png": "[encoded data removed]",
      "text/latex": "y := $\\displaystyle \\sqrt{a} e^{3 x} \\sin{\\left(x \\right)}$"
     },
     "metadata": {},
     "output_type": "display_data"
    },
    {
     "data": {
      "text/plain": "---"
     },
     "metadata": {},
     "output_type": "display_data"
    },
    {
     "data": {
      "text/plain": "yd :=       3⋅x              3⋅x       \n3⋅√a⋅ℯ   ⋅sin(x) + √a⋅ℯ   ⋅cos(x)",
      "image/png": "[encoded data removed]",
      "text/latex": "yd := $\\displaystyle 3 \\sqrt{a} e^{3 x} \\sin{\\left(x \\right)} + \\sqrt{a} e^{3 x} \\cos{\\left(x \\right)}$"
     },
     "metadata": {},
     "output_type": "display_data"
    },
    {
     "data": {
      "text/plain": "---"
     },
     "metadata": {},
     "output_type": "display_data"
    }
   ],
   "source": [
    "# same code with special-comments (`##:`)\n",
    "\n",
    "x = sp.Symbol(\"x\")\n",
    "a, b, c, z = sp.symbols(\"a b c z\") # create several symbols at once\n",
    "\n",
    "some_formula = a*b*x*b + b**2*a*x - c*b*(2*a/c*x*b-1/(b*2)) ##:\n",
    "\n",
    "# some calculus\n",
    "y = sp.sin(x)*sp.exp(3*x)*sp.sqrt(a) ##:\n",
    "\n",
    "# derive\n",
    "yd = y.diff(x) ##:\n"
   ]
  },
  {
   "cell_type": "markdown",
   "metadata": {
    "collapsed": true
   },
   "source": [
    "### Common pitfall when substituting derivatives of functions (e.g. in differential equations)"
   ]
  },
  {
   "cell_type": "code",
   "execution_count": 6,
   "metadata": {},
   "outputs": [
    {
     "data": {
      "text/plain": "fd0 := f(x)"
     },
     "metadata": {},
     "output_type": "display_data"
    },
    {
     "data": {
      "text/plain": "---"
     },
     "metadata": {},
     "output_type": "display_data"
    },
    {
     "data": {
      "text/plain": "fd1 := Derivative(f(x), x)"
     },
     "metadata": {},
     "output_type": "display_data"
    },
    {
     "data": {
      "text/plain": "---"
     },
     "metadata": {},
     "output_type": "display_data"
    },
    {
     "name": "stdout",
     "output_type": "stream",
     "text": [
      "type: <class 'sympy.core.function.Derivative'>\n",
      "args: (f(x), (x, 1))\n"
     ]
    }
   ],
   "source": [
    "# turn off latex-printing, to see the raw str-representation of the involved objects\n",
    "printing.init_printing(0)\n",
    "\n",
    "# create a Function\n",
    "fd0 = sp.Function(\"f\")(x) ##:\n",
    "\n",
    "# create a derivative object\n",
    "fd1 = fd0.diff(x) ##:\n",
    "\n",
    "print(\"type:\", type(fd1))\n",
    "print(\"args:\", fd1.args)"
   ]
  },
  {
   "cell_type": "code",
   "execution_count": 7,
   "metadata": {},
   "outputs": [
    {
     "data": {
      "text/plain": "my_ode := a*Derivative(f(x), x) + b*f(x)"
     },
     "metadata": {},
     "output_type": "display_data"
    },
    {
     "data": {
      "text/plain": "---"
     },
     "metadata": {},
     "output_type": "display_data"
    },
    {
     "data": {
      "text/plain": "rplmts_wrong_order := [(f(x), fd0), (Derivative(f(x), x), fd1)]"
     },
     "metadata": {},
     "output_type": "display_data"
    },
    {
     "data": {
      "text/plain": "---"
     },
     "metadata": {},
     "output_type": "display_data"
    },
    {
     "data": {
      "text/plain": "rplmts_correct_order := [(Derivative(f(x), x), fd1), (f(x), fd0)]"
     },
     "metadata": {},
     "output_type": "display_data"
    },
    {
     "data": {
      "text/plain": "---"
     },
     "metadata": {},
     "output_type": "display_data"
    }
   ],
   "source": [
    "# define some differential equation\n",
    "\n",
    "my_ode = a*fd1 + b*fd0 ##:\n",
    "\n",
    "# now we want to replace the functions and the derivatives with symbols\n",
    "\n",
    "fd0s, fd1s = sp.symbols(\"fd0, fd1\")\n",
    "\n",
    "rplmts_wrong_order = [(fd0, fd0s), (fd1, fd1s)] ##:\n",
    "\n",
    "# reverse the list (slicing (indexing) from beginning to end with stepsize -1)\n",
    "rplmts_correct_order = rplmts_wrong_order[::-1] ##:\n"
   ]
  },
  {
   "cell_type": "code",
   "execution_count": 8,
   "metadata": {},
   "outputs": [
    {
     "data": {
      "text/plain": "wrong_result := a*Derivative(fd0, x) + b*fd0"
     },
     "metadata": {},
     "output_type": "display_data"
    },
    {
     "data": {
      "text/plain": "---"
     },
     "metadata": {},
     "output_type": "display_data"
    },
    {
     "data": {
      "text/plain": "b*fd0"
     },
     "execution_count": 8,
     "metadata": {},
     "output_type": "execute_result"
    }
   ],
   "source": [
    "# this is wrong because the symbol fd0 now is inside the Derivative object\n",
    "wrong_result = my_ode.subs(rplmts_wrong_order) ##:\n",
    "\n",
    "\n",
    "# the symbol fd0 does obviously not depend on x -> evaluation of the derivative (performed by .doit()) leads to zero\n",
    "wrong_result.doit()"
   ]
  },
  {
   "cell_type": "code",
   "execution_count": 9,
   "metadata": {},
   "outputs": [
    {
     "data": {
      "text/plain": "correct_result := a*fd1 + b*fd0"
     },
     "metadata": {},
     "output_type": "display_data"
    },
    {
     "data": {
      "text/plain": "---"
     },
     "metadata": {},
     "output_type": "display_data"
    }
   ],
   "source": [
    "correct_result = my_ode.subs(rplmts_correct_order) ##:"
   ]
  },
  {
   "cell_type": "code",
   "execution_count": 10,
   "metadata": {},
   "outputs": [
    {
     "ename": "AssertionError",
     "evalue": "",
     "output_type": "error",
     "traceback": [
      "\u001B[1;31m---------------------------------------------------------------------------\u001B[0m",
      "\u001B[1;31mAssertionError\u001B[0m                            Traceback (most recent call last)",
      "\u001B[1;32m<ipython-input-10-7f9af6519fe1>\u001B[0m in \u001B[0;36m<module>\u001B[1;34m\u001B[0m\n\u001B[0;32m      1\u001B[0m \u001B[1;32mimport\u001B[0m \u001B[0mipydex\u001B[0m\u001B[1;33m\u001B[0m\u001B[1;33m\u001B[0m\u001B[0m\n\u001B[1;32m----> 2\u001B[1;33m \u001B[0mipydex\u001B[0m\u001B[1;33m.\u001B[0m\u001B[0msave_current_nb_as_html\u001B[0m\u001B[1;33m(\u001B[0m\u001B[1;33m)\u001B[0m\u001B[1;33m\u001B[0m\u001B[1;33m\u001B[0m\u001B[0m\n\u001B[0m\u001B[0;32m      3\u001B[0m \u001B[1;33m\u001B[0m\u001B[0m\n",
      "\u001B[1;32md:\\python39\\lib\\site-packages\\ipydex\\core.py\u001B[0m in \u001B[0;36msave_current_nb_as_html\u001B[1;34m(info)\u001B[0m\n\u001B[0;32m    611\u001B[0m     \u001B[0mSave\u001B[0m \u001B[0mthe\u001B[0m \u001B[0mcurrent\u001B[0m \u001B[0mnotebook\u001B[0m \u001B[1;32mas\u001B[0m \u001B[0mhtml\u001B[0m \u001B[0mfile\u001B[0m \u001B[1;32min\u001B[0m \u001B[0mthe\u001B[0m \u001B[0msame\u001B[0m \u001B[0mdirectory\u001B[0m\u001B[1;33m\u001B[0m\u001B[1;33m\u001B[0m\u001B[0m\n\u001B[0;32m    612\u001B[0m     \"\"\"\n\u001B[1;32m--> 613\u001B[1;33m     \u001B[1;32massert\u001B[0m \u001B[0min_ipynb\u001B[0m\u001B[1;33m(\u001B[0m\u001B[1;33m)\u001B[0m\u001B[1;33m\u001B[0m\u001B[1;33m\u001B[0m\u001B[0m\n\u001B[0m\u001B[0;32m    614\u001B[0m \u001B[1;33m\u001B[0m\u001B[0m\n\u001B[0;32m    615\u001B[0m     \u001B[0mfull_path\u001B[0m \u001B[1;33m=\u001B[0m \u001B[0mget_notebook_name\u001B[0m\u001B[1;33m(\u001B[0m\u001B[1;33m)\u001B[0m\u001B[1;33m\u001B[0m\u001B[1;33m\u001B[0m\u001B[0m\n",
      "\u001B[1;31mAssertionError\u001B[0m: "
     ]
    }
   ],
   "source": [
    "import ipydex\n",
    "ipydex.save_current_nb_as_html()"
   ]
  },
  {
   "cell_type": "code",
   "execution_count": null,
   "metadata": {},
   "outputs": [],
   "source": []
  }
 ],
 "metadata": {
  "kernelspec": {
   "display_name": "Python 3",
   "language": "python",
   "name": "python3"
  },
  "language_info": {
   "codemirror_mode": {
    "name": "ipython",
    "version": 3
   },
   "file_extension": ".py",
   "mimetype": "text/x-python",
   "name": "python",
   "nbconvert_exporter": "python",
   "pygments_lexer": "ipython3",
   "version": "3.6.3"
  }
 },
 "nbformat": 4,
 "nbformat_minor": 2
}